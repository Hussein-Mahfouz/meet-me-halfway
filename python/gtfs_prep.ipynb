{
 "cells": [
  {
   "cell_type": "code",
   "execution_count": null,
   "metadata": {},
   "outputs": [],
   "source": [
    "import gtfs2nx as gx\n",
    "import networkx as nx\n",
    "import geopandas as gpd\n",
    "import matplotlib.pyplot as plt"
   ]
  },
  {
   "cell_type": "markdown",
   "metadata": {},
   "source": [
    "## Read a feed and filter it by a boundary"
   ]
  },
  {
   "cell_type": "markdown",
   "metadata": {},
   "source": [
    "### Create the boundary"
   ]
  },
  {
   "cell_type": "code",
   "execution_count": null,
   "metadata": {},
   "outputs": [],
   "source": [
    "boundary = gpd.read_file('../data/study_area_boundary.geojson')\n",
    "# edit crs\n",
    "boundary = boundary.to_crs('EPSG:3857')\n",
    "# convert to one border\n",
    "boundary = boundary.unary_union\n",
    "\n",
    "gpd.GeoSeries(boundary).plot()"
   ]
  },
  {
   "cell_type": "markdown",
   "metadata": {},
   "source": [
    "### Read and filter the feed"
   ]
  },
  {
   "cell_type": "code",
   "execution_count": null,
   "metadata": {},
   "outputs": [],
   "source": [
    "path = '../data/study_area_gtfs_bus_f.zip'\n",
    "G = gx.transit_graph(path, \n",
    "                     time_window=('06:00', '10:00'), \n",
    "                     boundary = boundary, \n",
    "                     crs = 'EPSG:3857',\n",
    "                     walk_transfer_max_distance = 50\n",
    "                    )"
   ]
  },
  {
   "cell_type": "code",
   "execution_count": null,
   "metadata": {},
   "outputs": [],
   "source": [
    "# show first 5 edges\n",
    "list(G.edges(data=True))[:50]"
   ]
  },
  {
   "cell_type": "code",
   "execution_count": null,
   "metadata": {},
   "outputs": [],
   "source": [
    "# visualize service frequency of stops\n",
    "\n",
    "gx.utils.plot_network(G, 'frequency')"
   ]
  },
  {
   "cell_type": "markdown",
   "metadata": {},
   "source": [
    "### Edge structure"
   ]
  },
  {
   "cell_type": "code",
   "execution_count": null,
   "metadata": {},
   "outputs": [],
   "source": [
    "# Get a list of the first 50 edges\n",
    "first_10_edges = list(G.edges(data=True))[:10]\n",
    "\n",
    "# Iterate over the first 50 edges\n",
    "for edge in first_10_edges:\n",
    "    print(edge)"
   ]
  },
  {
   "cell_type": "markdown",
   "metadata": {},
   "source": [
    "### Node structure"
   ]
  },
  {
   "cell_type": "code",
   "execution_count": null,
   "metadata": {},
   "outputs": [],
   "source": [
    "# Get a list of the first 50 nodes\n",
    "first_10_nodes = list(G.nodes(data=True))[:10]\n",
    "\n",
    "# Iterate over the first 50 nodes\n",
    "for node in first_10_nodes:\n",
    "    print(node)\n",
    "    "
   ]
  },
  {
   "cell_type": "markdown",
   "metadata": {},
   "source": [
    "I'm asuming that each node will have multiple route ids. One for each unique route that passes through it. The code below shows this is not the case"
   ]
  },
  {
   "cell_type": "code",
   "execution_count": null,
   "metadata": {},
   "outputs": [],
   "source": [
    "# Create a dictionary to store the route_id values for each node\n",
    "node_route_ids = {}\n",
    "\n",
    "# Iterate over all nodes\n",
    "for node, data in G.nodes(data=True):\n",
    "    # Get the route_id attribute\n",
    "    route_id = data.get('route_id')\n",
    "\n",
    "    # If the route_id exists, add it to the list for this node\n",
    "    if route_id is not None:\n",
    "        if node in node_route_ids:\n",
    "            node_route_ids[node].append(route_id)\n",
    "        else:\n",
    "            node_route_ids[node] = [route_id]\n",
    "\n",
    "# Print the nodes that have more than one route_id\n",
    "for node, route_ids in node_route_ids.items():\n",
    "    if len(route_ids) > 1:\n",
    "        print(f'Node: {node}, route_ids: {route_ids}')"
   ]
  },
  {
   "cell_type": "markdown",
   "metadata": {},
   "source": [
    "Do we have different nodes in the exact same location? YES"
   ]
  },
  {
   "cell_type": "code",
   "execution_count": null,
   "metadata": {},
   "outputs": [],
   "source": [
    "# Create a dictionary to count the occurrences of each (x, y) pair\n",
    "xy_counts = {}\n",
    "\n",
    "# Iterate over all nodes\n",
    "for node, data in G.nodes(data=True):\n",
    "    # Get the x and y attributes\n",
    "    x = data.get('x')\n",
    "    y = data.get('y')\n",
    "\n",
    "    # If both x and y exist, increment the count for this pair\n",
    "    if x is not None and y is not None:\n",
    "        xy = (x, y)\n",
    "        if xy in xy_counts:\n",
    "            xy_counts[xy] += 1\n",
    "        else:\n",
    "            xy_counts[xy] = 1\n",
    "\n",
    "# Print the (x, y) pairs that occur more than once\n",
    "for xy, count in xy_counts.items():\n",
    "    if count > 1:\n",
    "        print(f'(x, y): {xy}, count: {count}')"
   ]
  },
  {
   "cell_type": "markdown",
   "metadata": {},
   "source": [
    "We should group the nodes in the same location. If we do that, we can identify the routes that traverse the same edges. Is this possible in networkx? We can't just modify the edges, as the travel_time (weight) is different depending on the bus route ...\n",
    "\n",
    "The edge should have a dictionary with {route_id: weight}"
   ]
  }
 ],
 "metadata": {
  "kernelspec": {
   "display_name": "midpoint",
   "language": "python",
   "name": "python3"
  },
  "language_info": {
   "codemirror_mode": {
    "name": "ipython",
    "version": 3
   },
   "file_extension": ".py",
   "mimetype": "text/x-python",
   "name": "python",
   "nbconvert_exporter": "python",
   "pygments_lexer": "ipython3",
   "version": "3.12.3"
  }
 },
 "nbformat": 4,
 "nbformat_minor": 2
}
