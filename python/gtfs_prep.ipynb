{
 "cells": [
  {
   "cell_type": "code",
   "execution_count": 8,
   "metadata": {},
   "outputs": [],
   "source": [
    "import gtfs2nx as gx\n",
    "import networkx as nx\n",
    "import geopandas as gpd\n",
    "import matplotlib.pyplot as plt"
   ]
  },
  {
   "cell_type": "markdown",
   "metadata": {},
   "source": [
    "## Read a feed and filter it by a boundary"
   ]
  },
  {
   "cell_type": "markdown",
   "metadata": {},
   "source": [
    "### Create the boundary"
   ]
  },
  {
   "cell_type": "code",
   "execution_count": 9,
   "metadata": {},
   "outputs": [
    {
     "data": {
      "text/plain": [
       "<Axes: >"
      ]
     },
     "execution_count": 9,
     "metadata": {},
     "output_type": "execute_result"
    },
    {
     "data": {
      "image/png": "[encoded data removed]",
      "text/plain": [
       "<Figure size 640x480 with 1 Axes>"
      ]
     },
     "metadata": {},
     "output_type": "display_data"
    }
   ],
   "source": [
    "boundary = gpd.read_file('../data/study_area_boundary.geojson')\n",
    "# edit crs\n",
    "boundary = boundary.to_crs('EPSG:3857')\n",
    "# convert to one border\n",
    "boundary = boundary.unary_union\n",
    "\n",
    "gpd.GeoSeries(boundary).plot()"
   ]
  },
  {
   "cell_type": "markdown",
   "metadata": {},
   "source": [
    "### Read and filter the feed"
   ]
  },
  {
   "cell_type": "code",
   "execution_count": 10,
   "metadata": {},
   "outputs": [
    {
     "name": "stdout",
     "output_type": "stream",
     "text": [
      "2024-05-26 10:51:54,044 | INFO | STEP 1/5 - Loading GTFS feed(s) ...\n",
      "2024-05-26 10:51:55,015 | INFO | STEP 2/5 - Preprocessing GTFS feeds ...\n",
      "2024-05-26 10:51:55,931 | INFO |            Filtering transit service between 06:00 and 10:00...\n"
     ]
    },
    {
     "name": "stderr",
     "output_type": "stream",
     "text": [
      "/home/hussein/miniconda3/envs/midpoint/lib/python3.12/site-packages/pyproj/crs/crs.py:141: FutureWarning: '+init=<authority>:<code>' syntax is deprecated. '<authority>:<code>' is the preferred initialization method. When making the change, be mindful of axis order changes: https://pyproj4.github.io/pyproj/stable/gotchas.html#axis-order-changes-in-proj-6\n",
      "  in_crs_string = _prepare_from_proj_string(in_crs_string)\n",
      "/home/hussein/miniconda3/envs/midpoint/lib/python3.12/site-packages/pyproj/crs/crs.py:141: FutureWarning: '+init=<authority>:<code>' syntax is deprecated. '<authority>:<code>' is the preferred initialization method. When making the change, be mindful of axis order changes: https://pyproj4.github.io/pyproj/stable/gotchas.html#axis-order-changes-in-proj-6\n",
      "  in_crs_string = _prepare_from_proj_string(in_crs_string)\n"
     ]
    },
    {
     "name": "stdout",
     "output_type": "stream",
     "text": [
      "2024-05-26 10:51:56,113 | INFO | Removed 41 trips with unrealistic travel speeds (>108km/h).\n",
      "2024-05-26 10:51:56,118 | INFO | STEP 3/5 - Determining service frequency, transfer waiting & travel times...\n",
      "2024-05-26 10:51:56,452 | INFO | {INDENT}Filtering by geographical boundary...\n",
      "2024-05-26 10:51:58,721 | INFO | STEP 4/5 - Creating NetworkX graph...\n",
      "2024-05-26 10:51:58,803 | INFO | STEP 5/5 - Adding edges for walk transfers between stops no more than 50 m apart (assuming walk speed of 4 km/h)...\n"
     ]
    }
   ],
   "source": [
    "path = '../data/study_area_gtfs_bus_f.zip'\n",
    "G = gx.transit_graph(path, \n",
    "                     time_window=('06:00', '10:00'), \n",
    "                     boundary = boundary, \n",
    "                     crs = 'EPSG:3857',\n",
    "                     walk_transfer_max_distance = 50\n",
    "                    )"
   ]
  },
  {
   "cell_type": "code",
   "execution_count": 11,
   "metadata": {},
   "outputs": [
    {
     "data": {
      "text/plain": [
       "[('450010001@@30529', '450010001@@30529', {'weight': 0.0, 'mode': 'transit'}),\n",
       " ('450010001@@30529', '450012111@@30529', {'weight': 56.0, 'mode': 'transit'}),\n",
       " ('450012111@@30529',\n",
       "  '450011480@@30529',\n",
       "  {'weight': 182.33333333333334, 'mode': 'transit'}),\n",
       " ('450012111@@30529', '450012111@@30529', {'weight': 0.0, 'mode': 'transit'}),\n",
       " ('450010002@@30529',\n",
       "  '450010001@@30529',\n",
       "  {'weight': 107.66666666666667, 'mode': 'transit'}),\n",
       " ('450010002@@30529', '450010002@@30529', {'weight': 0.0, 'mode': 'transit'}),\n",
       " ('450010003@@30529', '450010002@@30529', {'weight': 61.0, 'mode': 'transit'}),\n",
       " ('450010003@@30529', '450010003@@30529', {'weight': 0.0, 'mode': 'transit'}),\n",
       " ('450010004@@30529',\n",
       "  '450010003@@30529',\n",
       "  {'weight': 55.333333333333336, 'mode': 'transit'}),\n",
       " ('450010004@@30529', '450010004@@30529', {'weight': 0.0, 'mode': 'transit'}),\n",
       " ('450010005@@12120', '450010005@@12120', {'weight': 0.0, 'mode': 'transit'}),\n",
       " ('450010005@@12120', '450014432@@12120', {'weight': 97.0, 'mode': 'transit'}),\n",
       " ('450010005@@12120',\n",
       "  '450010005@@12645',\n",
       "  {'weight': 385.7142857142857, 'mode': 'walk'}),\n",
       " ('450010005@@12120',\n",
       "  '450010005@@30526',\n",
       "  {'weight': 79.7063492063492, 'mode': 'walk'}),\n",
       " ('450010005@@12120',\n",
       "  '450010005@@75064',\n",
       "  {'weight': 642.8571428571429, 'mode': 'walk'}),\n",
       " ('450014432@@12120', '450014432@@12120', {'weight': 0.0, 'mode': 'transit'}),\n",
       " ('450014432@@12120', '450014434@@12120', {'weight': 29.0, 'mode': 'transit'}),\n",
       " ('450014432@@12120',\n",
       "  '450014432@@12645',\n",
       "  {'weight': 385.7142857142857, 'mode': 'walk'}),\n",
       " ('450014432@@12120',\n",
       "  '450014432@@30526',\n",
       "  {'weight': 79.84920634920636, 'mode': 'walk'}),\n",
       " ('450014432@@12120',\n",
       "  '450014432@@75064',\n",
       "  {'weight': 642.8571428571429, 'mode': 'walk'}),\n",
       " ('450010005@@12645', '450010005@@12645', {'weight': 0.0, 'mode': 'transit'}),\n",
       " ('450010005@@12645', '450014432@@12645', {'weight': 68.0, 'mode': 'transit'}),\n",
       " ('450010005@@12645',\n",
       "  '450010005@@12120',\n",
       "  {'weight': 557.1428571428571, 'mode': 'walk'}),\n",
       " ('450010005@@12645',\n",
       "  '450010005@@30526',\n",
       "  {'weight': 79.7063492063492, 'mode': 'walk'}),\n",
       " ('450010005@@12645',\n",
       "  '450010005@@75064',\n",
       "  {'weight': 642.8571428571429, 'mode': 'walk'}),\n",
       " ('450014432@@12645', '450014432@@12645', {'weight': 0.0, 'mode': 'transit'}),\n",
       " ('450014432@@12645', '450014434@@12645', {'weight': 20.0, 'mode': 'transit'}),\n",
       " ('450014432@@12645',\n",
       "  '450014432@@12120',\n",
       "  {'weight': 557.1428571428571, 'mode': 'walk'}),\n",
       " ('450014432@@12645',\n",
       "  '450014432@@30526',\n",
       "  {'weight': 79.84920634920636, 'mode': 'walk'}),\n",
       " ('450014432@@12645',\n",
       "  '450014432@@75064',\n",
       "  {'weight': 642.8571428571429, 'mode': 'walk'}),\n",
       " ('450010005@@30526', '450010005@@30526', {'weight': 0.0, 'mode': 'transit'}),\n",
       " ('450010005@@30526', '450014432@@30526', {'weight': 69.5, 'mode': 'transit'}),\n",
       " ('450010005@@30526',\n",
       "  '450010005@@12120',\n",
       "  {'weight': 557.1428571428571, 'mode': 'walk'}),\n",
       " ('450010005@@30526',\n",
       "  '450010005@@12645',\n",
       "  {'weight': 385.7142857142857, 'mode': 'walk'}),\n",
       " ('450010005@@30526',\n",
       "  '450010005@@75064',\n",
       "  {'weight': 642.8571428571429, 'mode': 'walk'}),\n",
       " ('450014432@@30526', '450014432@@30526', {'weight': 0.0, 'mode': 'transit'}),\n",
       " ('450014432@@30526', '450014434@@30526', {'weight': 41.5, 'mode': 'transit'}),\n",
       " ('450014432@@30526',\n",
       "  '450014432@@12645',\n",
       "  {'weight': 385.7142857142857, 'mode': 'walk'}),\n",
       " ('450014432@@30526',\n",
       "  '450014432@@12120',\n",
       "  {'weight': 557.1428571428571, 'mode': 'walk'}),\n",
       " ('450014432@@30526',\n",
       "  '450014432@@75064',\n",
       "  {'weight': 642.8571428571429, 'mode': 'walk'}),\n",
       " ('450010005@@75064', '450010005@@75064', {'weight': 0.0, 'mode': 'transit'}),\n",
       " ('450010005@@75064', '450014432@@75064', {'weight': 60.0, 'mode': 'transit'}),\n",
       " ('450010005@@75064',\n",
       "  '450010005@@12120',\n",
       "  {'weight': 557.1428571428571, 'mode': 'walk'}),\n",
       " ('450010005@@75064',\n",
       "  '450010005@@12645',\n",
       "  {'weight': 385.7142857142857, 'mode': 'walk'}),\n",
       " ('450010005@@75064',\n",
       "  '450010005@@30526',\n",
       "  {'weight': 79.7063492063492, 'mode': 'walk'}),\n",
       " ('450014432@@75064', '450014432@@75064', {'weight': 0.0, 'mode': 'transit'}),\n",
       " ('450014432@@75064', '450014434@@75064', {'weight': 18.0, 'mode': 'transit'}),\n",
       " ('450014432@@75064',\n",
       "  '450014432@@12645',\n",
       "  {'weight': 385.7142857142857, 'mode': 'walk'}),\n",
       " ('450014432@@75064',\n",
       "  '450014432@@12120',\n",
       "  {'weight': 557.1428571428571, 'mode': 'walk'}),\n",
       " ('450014432@@75064',\n",
       "  '450014432@@30526',\n",
       "  {'weight': 79.84920634920636, 'mode': 'walk'})]"
      ]
     },
     "execution_count": 11,
     "metadata": {},
     "output_type": "execute_result"
    }
   ],
   "source": [
    "# show first 5 edges\n",
    "list(G.edges(data=True))[:50]"
   ]
  },
  {
   "cell_type": "code",
   "execution_count": null,
   "metadata": {},
   "outputs": [],
   "source": [
    "# visualize service frequency of stops\n",
    "\n",
    "gx.utils.plot_network(G, 'frequency')"
   ]
  },
  {
   "cell_type": "markdown",
   "metadata": {},
   "source": [
    "### Edge structure"
   ]
  },
  {
   "cell_type": "code",
   "execution_count": 7,
   "metadata": {},
   "outputs": [
    {
     "name": "stdout",
     "output_type": "stream",
     "text": [
      "('450010001@@30529', '450010001@@30529', {'weight': 0.0, 'mode': 'transit'})\n",
      "('450010001@@30529', '450012111@@30529', {'weight': 56.0, 'mode': 'transit'})\n",
      "('450012111@@30529', '450011480@@30529', {'weight': 182.33333333333334, 'mode': 'transit'})\n",
      "('450012111@@30529', '450012111@@30529', {'weight': 0.0, 'mode': 'transit'})\n",
      "('450010002@@30529', '450010001@@30529', {'weight': 107.66666666666667, 'mode': 'transit'})\n",
      "('450010002@@30529', '450010002@@30529', {'weight': 0.0, 'mode': 'transit'})\n",
      "('450010003@@30529', '450010002@@30529', {'weight': 61.0, 'mode': 'transit'})\n",
      "('450010003@@30529', '450010003@@30529', {'weight': 0.0, 'mode': 'transit'})\n",
      "('450010004@@30529', '450010003@@30529', {'weight': 55.333333333333336, 'mode': 'transit'})\n",
      "('450010004@@30529', '450010004@@30529', {'weight': 0.0, 'mode': 'transit'})\n"
     ]
    }
   ],
   "source": [
    "# Get a list of the first 50 edges\n",
    "first_10_edges = list(G.edges(data=True))[:10]\n",
    "\n",
    "# Iterate over the first 50 edges\n",
    "for edge in first_10_edges:\n",
    "    print(edge)"
   ]
  },
  {
   "cell_type": "markdown",
   "metadata": {},
   "source": [
    "### Node structure"
   ]
  },
  {
   "cell_type": "code",
   "execution_count": null,
   "metadata": {},
   "outputs": [],
   "source": [
    "# Get a list of the first 50 nodes\n",
    "first_10_nodes = list(G.nodes(data=True))[:10]\n",
    "\n",
    "# Iterate over the first 50 nodes\n",
    "for node in first_10_nodes:\n",
    "    print(node)\n",
    "    "
   ]
  },
  {
   "cell_type": "markdown",
   "metadata": {},
   "source": [
    "I'm asuming that each node will have multiple route ids. One for each unique route that passes through it. The code below shows this is not the case"
   ]
  },
  {
   "cell_type": "code",
   "execution_count": null,
   "metadata": {},
   "outputs": [],
   "source": [
    "# Create a dictionary to store the route_id values for each node\n",
    "node_route_ids = {}\n",
    "\n",
    "# Iterate over all nodes\n",
    "for node, data in G.nodes(data=True):\n",
    "    # Get the route_id attribute\n",
    "    route_id = data.get('route_id')\n",
    "\n",
    "    # If the route_id exists, add it to the list for this node\n",
    "    if route_id is not None:\n",
    "        if node in node_route_ids:\n",
    "            node_route_ids[node].append(route_id)\n",
    "        else:\n",
    "            node_route_ids[node] = [route_id]\n",
    "\n",
    "# Print the nodes that have more than one route_id\n",
    "for node, route_ids in node_route_ids.items():\n",
    "    if len(route_ids) > 1:\n",
    "        print(f'Node: {node}, route_ids: {route_ids}')"
   ]
  },
  {
   "cell_type": "markdown",
   "metadata": {},
   "source": [
    "Do we have different nodes in the exact same location? YES"
   ]
  },
  {
   "cell_type": "code",
   "execution_count": null,
   "metadata": {},
   "outputs": [],
   "source": [
    "# Create a dictionary to count the occurrences of each (x, y) pair\n",
    "xy_counts = {}\n",
    "\n",
    "# Iterate over all nodes\n",
    "for node, data in G.nodes(data=True):\n",
    "    # Get the x and y attributes\n",
    "    x = data.get('x')\n",
    "    y = data.get('y')\n",
    "\n",
    "    # If both x and y exist, increment the count for this pair\n",
    "    if x is not None and y is not None:\n",
    "        xy = (x, y)\n",
    "        if xy in xy_counts:\n",
    "            xy_counts[xy] += 1\n",
    "        else:\n",
    "            xy_counts[xy] = 1\n",
    "\n",
    "# Print the (x, y) pairs that occur more than once\n",
    "for xy, count in xy_counts.items():\n",
    "    if count > 1:\n",
    "        print(f'(x, y): {xy}, count: {count}')"
   ]
  },
  {
   "cell_type": "markdown",
   "metadata": {},
   "source": [
    "We should group the nodes in the same location. If we do that, we can identify the routes that traverse the same edges. Is this possible in networkx? We can't just modify the edges, as the travel_time (weight) is different depending on the bus route ...\n",
    "\n",
    "The edge should have a dictionary with {route_id: weight}"
   ]
  }
 ],
 "metadata": {
  "kernelspec": {
   "display_name": "midpoint",
   "language": "python",
   "name": "python3"
  },
  "language_info": {
   "codemirror_mode": {
    "name": "ipython",
    "version": 3
   },
   "file_extension": ".py",
   "mimetype": "text/x-python",
   "name": "python",
   "nbconvert_exporter": "python",
   "pygments_lexer": "ipython3",
   "version": "3.12.3"
  }
 },
 "nbformat": 4,
 "nbformat_minor": 2
}
